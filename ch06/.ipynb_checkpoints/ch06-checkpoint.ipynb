{
 "cells": [
  {
   "cell_type": "markdown",
   "metadata": {},
   "source": [
    "# 6.1"
   ]
  },
  {
   "cell_type": "code",
   "execution_count": 1,
   "metadata": {},
   "outputs": [],
   "source": [
    "class SDG:\n",
    "    def __init__(self, lr=0.01):\n",
    "        self.lr = lr\n",
    "    \n",
    "    def update(self, params , grads):\n",
    "        for key in params.key():\n",
    "            params[key] -= self.lr * grabs[key]"
   ]
  },
  {
   "cell_type": "code",
   "execution_count": 2,
   "metadata": {},
   "outputs": [],
   "source": [
    "class Momentum:\n",
    "    def __init__(self, lr=0.01, momentum=0.9):\n",
    "        self.lr = lr\n",
    "        self.momentum = momentum\n",
    "        self.v = None\n",
    "    \n",
    "    def update(self, params, grads):\n",
    "        if self.v is None:\n",
    "            self.v = {}\n",
    "            for key, val in params.item():\n",
    "                self.v[key] = np.zeros_like(val)\n",
    "        for key in params.key():\n",
    "            self.v[key] = self.momentum * self.v[key] - self.lr*grads[key]\n",
    "            params[key] += self.v[key]"
   ]
  },
  {
   "cell_type": "markdown",
   "metadata": {},
   "source": [
    "# 6.2"
   ]
  },
  {
   "cell_type": "code",
   "execution_count": 6,
   "metadata": {},
   "outputs": [],
   "source": [
    "import numpy as np\n",
    "import matplotlib.pyplot  as plt"
   ]
  },
  {
   "cell_type": "code",
   "execution_count": 12,
   "metadata": {},
   "outputs": [],
   "source": [
    "def sigmoid(x):\n",
    "    return 1/(1+np.exp(-x))\n",
    "\n",
    "x = np.random.randn(1000,100) #100個のデータ\n",
    "node_num = 100\n",
    "hidden_layer_size = 5\n",
    "activations = {}\n",
    "\n",
    "for i in range(hidden_layer_size):\n",
    "    if i != 0:\n",
    "        x = activations[i-1]\n",
    "    w = np.random.randn(node_num, node_num) / np.sqrt(node_num)\n",
    "    \n",
    "    z = np.dot(x,w)\n",
    "    a = sigmoid(z)\n",
    "    activations[i] = a"
   ]
  },
  {
   "cell_type": "code",
   "execution_count": 13,
   "metadata": {
    "scrolled": true
   },
   "outputs": [
    {
     "data": {
      "text/plain": [
       "{0: array([[0.81940945, 0.17068151, 0.7410282 , ..., 0.76749307, 0.43849324,\n",
       "         0.42258467],\n",
       "        [0.61537077, 0.86892669, 0.86557077, ..., 0.28298379, 0.27904174,\n",
       "         0.1895729 ],\n",
       "        [0.69515521, 0.61862198, 0.47068924, ..., 0.54444694, 0.5906482 ,\n",
       "         0.79687852],\n",
       "        ...,\n",
       "        [0.30778878, 0.74762816, 0.75121852, ..., 0.74439502, 0.79674138,\n",
       "         0.5136735 ],\n",
       "        [0.59808918, 0.74199742, 0.82008769, ..., 0.60805528, 0.71932788,\n",
       "         0.50696019],\n",
       "        [0.44033938, 0.38826826, 0.56323303, ..., 0.28091853, 0.70979258,\n",
       "         0.84862536]]),\n",
       " 1: array([[0.52544315, 0.66041837, 0.53551033, ..., 0.29156665, 0.40612438,\n",
       "         0.53897555],\n",
       "        [0.49567032, 0.59048398, 0.57903466, ..., 0.20542662, 0.46376554,\n",
       "         0.66895308],\n",
       "        [0.61365823, 0.63294652, 0.45590872, ..., 0.30250965, 0.32279797,\n",
       "         0.56247585],\n",
       "        ...,\n",
       "        [0.4629295 , 0.5919148 , 0.45056888, ..., 0.26515066, 0.3241235 ,\n",
       "         0.55732617],\n",
       "        [0.45801298, 0.55696987, 0.49820697, ..., 0.31963432, 0.32437649,\n",
       "         0.53243368],\n",
       "        [0.46631661, 0.58074991, 0.5433213 , ..., 0.36907272, 0.35616645,\n",
       "         0.51082708]]),\n",
       " 2: array([[0.47858828, 0.52928901, 0.3735262 , ..., 0.5543308 , 0.55683155,\n",
       "         0.52553027],\n",
       "        [0.50288042, 0.52625819, 0.35556304, ..., 0.55417123, 0.55539563,\n",
       "         0.53471381],\n",
       "        [0.49679131, 0.52347618, 0.35302277, ..., 0.56654069, 0.53380634,\n",
       "         0.51415257],\n",
       "        ...,\n",
       "        [0.51128852, 0.53175333, 0.36000425, ..., 0.57717162, 0.54828778,\n",
       "         0.51874526],\n",
       "        [0.50261284, 0.54342224, 0.36586469, ..., 0.57241272, 0.53920756,\n",
       "         0.51396905],\n",
       "        [0.53063869, 0.54632867, 0.36838955, ..., 0.56860059, 0.55034704,\n",
       "         0.50628198]]),\n",
       " 3: array([[0.44999321, 0.35629317, 0.44234278, ..., 0.5171787 , 0.68147198,\n",
       "         0.56468346],\n",
       "        [0.44718348, 0.35363286, 0.43806454, ..., 0.51775597, 0.67940031,\n",
       "         0.56359834],\n",
       "        [0.4466248 , 0.36142378, 0.43927715, ..., 0.52099563, 0.67929811,\n",
       "         0.56239365],\n",
       "        ...,\n",
       "        [0.45100161, 0.36226398, 0.44551573, ..., 0.51637154, 0.67690235,\n",
       "         0.56005516],\n",
       "        [0.45214394, 0.36106588, 0.44310993, ..., 0.51621816, 0.68035087,\n",
       "         0.56080451],\n",
       "        [0.44503375, 0.35846151, 0.44231773, ..., 0.51410152, 0.68116167,\n",
       "         0.55762052]]),\n",
       " 4: array([[0.6784841 , 0.36504654, 0.51892265, ..., 0.53996296, 0.44471547,\n",
       "         0.44108458],\n",
       "        [0.67772135, 0.36533935, 0.51892379, ..., 0.53821767, 0.44518244,\n",
       "         0.44051641],\n",
       "        [0.67696907, 0.36465787, 0.51959286, ..., 0.53876574, 0.44594119,\n",
       "         0.44087192],\n",
       "        ...,\n",
       "        [0.67780895, 0.36457214, 0.51899558, ..., 0.53854691, 0.44453556,\n",
       "         0.44029406],\n",
       "        [0.67762171, 0.36473368, 0.51923704, ..., 0.5391315 , 0.44485756,\n",
       "         0.44044537],\n",
       "        [0.67877474, 0.36446875, 0.51899313, ..., 0.53775363, 0.44587826,\n",
       "         0.44129373]])}"
      ]
     },
     "execution_count": 13,
     "metadata": {},
     "output_type": "execute_result"
    }
   ],
   "source": [
    "activations"
   ]
  },
  {
   "cell_type": "code",
   "execution_count": 14,
   "metadata": {},
   "outputs": [
    {
     "data": {
      "image/png": "[encoded data removed]",
      "text/plain": [
       "<Figure size 432x288 with 5 Axes>"
      ]
     },
     "metadata": {
      "needs_background": "light"
     },
     "output_type": "display_data"
    }
   ],
   "source": [
    "for i,a in activations.items():\n",
    "    plt.subplot(1,len(activations),i+1)\n",
    "    plt.title(str(i+1) + \"--layer\")\n",
    "    plt.hist(a.flatten(),30,range=(0,1))\n",
    "plt.show()"
   ]
  },
  {
   "cell_type": "markdown",
   "metadata": {},
   "source": [
    "# 6.4"
   ]
  },
  {
   "cell_type": "code",
   "execution_count": 16,
   "metadata": {},
   "outputs": [],
   "source": [
    "import os\n",
    "import sys\n",
    "\n",
    "sys.path.append(os.pardir)  # 親ディレクトリのファイルをインポートするための設定\n",
    "import numpy as np\n",
    "import matplotlib.pyplot as plt\n",
    "from dataset.mnist import load_mnist\n",
    "from common.multi_layer_net import MultiLayerNet\n",
    "from common.optimizer import SGD"
   ]
  },
  {
   "cell_type": "code",
   "execution_count": 18,
   "metadata": {},
   "outputs": [],
   "source": [
    "(x_train, t_train), (x_test, t_test) = load_mnist(normalize=True)\n",
    "\n",
    "# 過学習を再現するために、学習データを削減\n",
    "x_train = x_train[:300]\n",
    "t_train = t_train[:300]\n",
    "\n",
    "network = MultiLayerNet(input_size=784,\n",
    "                        hidden_size_list=[100, 100, 100, 100, 100, 100], \n",
    "                        output_size=10)\n",
    "optimizer = SGD(lr=0.01)"
   ]
  },
  {
   "cell_type": "code",
   "execution_count": 22,
   "metadata": {},
   "outputs": [],
   "source": [
    "max_epochs = 201\n",
    "train_size = x_train.shape[0]\n",
    "batch_size = 100\n",
    "\n",
    "train_loss_list = []\n",
    "train_acc_list = []\n",
    "test_acc_list = []"
   ]
  },
  {
   "cell_type": "code",
   "execution_count": 23,
   "metadata": {},
   "outputs": [
    {
     "data": {
      "text/plain": [
       "300"
      ]
     },
     "execution_count": 23,
     "metadata": {},
     "output_type": "execute_result"
    }
   ],
   "source": [
    "iter_per_epoch = max(train_size / batch_size, 1)\n",
    "epoch_cnt = 0"
   ]
  },
  {
   "cell_type": "code",
   "execution_count": 24,
   "metadata": {},
   "outputs": [],
   "source": [
    "a = np.random.choice(10,2)"
   ]
  },
  {
   "cell_type": "code",
   "execution_count": 25,
   "metadata": {},
   "outputs": [
    {
     "data": {
      "text/plain": [
       "array([0, 9])"
      ]
     },
     "execution_count": 25,
     "metadata": {},
     "output_type": "execute_result"
    }
   ],
   "source": [
    "a"
   ]
  },
  {
   "cell_type": "code",
   "execution_count": 26,
   "metadata": {},
   "outputs": [
    {
     "data": {
      "text/plain": [
       "(2,)"
      ]
     },
     "execution_count": 26,
     "metadata": {},
     "output_type": "execute_result"
    }
   ],
   "source": [
    "a.shape"
   ]
  },
  {
   "cell_type": "code",
   "execution_count": 30,
   "metadata": {},
   "outputs": [
    {
     "data": {
      "text/plain": [
       "array([[0.51847545, 0.26916229, 0.08590812, ..., 0.98810602, 0.3675473 ,\n",
       "        0.70107697],\n",
       "       [0.48431619, 0.51927925, 0.09596425, ..., 0.47851867, 0.77105558,\n",
       "        0.37735586],\n",
       "       [0.28478159, 0.33674043, 0.89840033, ..., 0.04346657, 0.30979314,\n",
       "        0.28550933],\n",
       "       ...,\n",
       "       [0.21519712, 0.47493781, 0.76968614, ..., 0.38298084, 0.2913904 ,\n",
       "        0.05872596],\n",
       "       [0.70202591, 0.12222533, 0.21805305, ..., 0.79117525, 0.06966764,\n",
       "        0.24937943],\n",
       "       [0.2340278 , 0.36205979, 0.59793423, ..., 0.7481959 , 0.17733879,\n",
       "        0.66921378]])"
      ]
     },
     "execution_count": 30,
     "metadata": {},
     "output_type": "execute_result"
    }
   ],
   "source": [
    "np.random.rand(*x.shape)"
   ]
  },
  {
   "cell_type": "code",
   "execution_count": null,
   "metadata": {},
   "outputs": [],
   "source": []
  }
 ],
 "metadata": {
  "kernelspec": {
   "display_name": "Python 3",
   "language": "python",
   "name": "python3"
  },
  "language_info": {
   "codemirror_mode": {
    "name": "ipython",
    "version": 3
   },
   "file_extension": ".py",
   "mimetype": "text/x-python",
   "name": "python",
   "nbconvert_exporter": "python",
   "pygments_lexer": "ipython3",
   "version": "3.7.0"
  }
 },
 "nbformat": 4,
 "nbformat_minor": 2
}
